{
 "cells": [
  {
   "cell_type": "code",
   "execution_count": 11,
   "metadata": {},
   "outputs": [
    {
     "name": "stdout",
     "output_type": "stream",
     "text": [
      "The autoreload extension is already loaded. To reload it, use:\n",
      "  %reload_ext autoreload\n"
     ]
    }
   ],
   "source": [
    "from utils.setup import load_model, load_data\n",
    "%load_ext autoreload\n",
    "%autoreload 2"
   ]
  },
  {
   "cell_type": "code",
   "execution_count": 12,
   "metadata": {},
   "outputs": [
    {
     "name": "stdout",
     "output_type": "stream",
     "text": [
      "==========================================================================================\n",
      "Layer (type:depth-idx)                   Output Shape              Param #\n",
      "==========================================================================================\n",
      "├─ID_Layer: 1-1                          [-1, 512]                 --\n",
      "|    └─MappingNetwork: 2-1               [-1, 512]                 2,101,248\n",
      "├─ID_Layer: 1-2                          [-1, 512, 4, 4]           --\n",
      "|    └─StyleGanInitBlock: 2-2            [-1, 512, 4, 4]           3,419,648\n",
      "├─ModuleList: 1                          []                        --\n",
      "|    └─ID_Layer: 2-3                     [-1, 3, 4, 4]             1,539\n",
      "==========================================================================================\n",
      "Total params: 5,522,435\n",
      "Trainable params: 5,522,435\n",
      "Non-trainable params: 0\n",
      "Total mult-adds (M): 51.91\n",
      "==========================================================================================\n",
      "Input size (MB): 0.00\n",
      "Forward/backward pass size (MB): 0.19\n",
      "Params size (MB): 21.07\n",
      "Estimated Total Size (MB): 21.26\n",
      "==========================================================================================\n"
     ]
    }
   ],
   "source": [
    "from torchsummary import summary\n",
    "\n",
    "netG = load_model('netG', 'configs/config_StyleGan4x4.yaml')\n",
    "netD = load_model('netD', 'configs/config_StyleGan4x4.yaml')\n",
    "\n",
    "\n",
    "summary(netG, [512], depth=2);"
   ]
  },
  {
   "cell_type": "code",
   "execution_count": 13,
   "metadata": {},
   "outputs": [],
   "source": [
    "data_train = load_data('train', 'configs/config_StyleGan4x4.yaml')\n",
    "data_val = load_data('val', 'configs/config_StyleGan4x4.yaml')\n",
    "data_test = load_data('test', 'configs/config_StyleGan4x4.yaml')\n"
   ]
  },
  {
   "cell_type": "code",
   "execution_count": 14,
   "metadata": {},
   "outputs": [
    {
     "data": {
      "text/plain": [
       "(1020, 1020, 6149)"
      ]
     },
     "execution_count": 14,
     "metadata": {},
     "output_type": "execute_result"
    }
   ],
   "source": [
    "len(data_train.dataset), len(data_val.dataset), len(data_test.dataset)"
   ]
  },
  {
   "cell_type": "code",
   "execution_count": 15,
   "metadata": {},
   "outputs": [],
   "source": [
    "import torch\n",
    "from torch.utils.data import random_split\n",
    "from metrics.utils import activation_statistics, frechet_distance\n",
    "num_samples = 1000\n",
    "device = 'cuda:1'\n",
    "netD.to(device)\n",
    "# Split the dataset into a random subset and a complementary subset\n",
    "train_subset, _ = random_split(data_train.dataset, [num_samples, len(data_train.dataset) - num_samples])\n",
    "val_subset, _ = random_split(data_val.dataset, [num_samples, len(data_val.dataset) - num_samples])\n",
    "train_images = [train_subset[i][0] for i in range(num_samples)]\n",
    "val_images = [val_subset[i][0] for i in range(num_samples)]"
   ]
  },
  {
   "cell_type": "code",
   "execution_count": 16,
   "metadata": {},
   "outputs": [
    {
     "data": {
      "text/plain": [
       "<matplotlib.image.AxesImage at 0x22554c56880>"
      ]
     },
     "execution_count": 16,
     "metadata": {},
     "output_type": "execute_result"
    },
    {
     "data": {
      "image/png": "[encoded data removed]",
      "text/plain": [
       "<Figure size 640x480 with 1 Axes>"
      ]
     },
     "metadata": {},
     "output_type": "display_data"
    }
   ],
   "source": [
    "import matplotlib.pyplot as plt\n",
    "\n",
    "def normalize(x):\n",
    "    # return (x - x.min()) / (x.max() - x.min())\n",
    "    return (x * 0.5) + 0.5\n",
    "\n",
    "plt.imshow(normalize(train_images[-1]).permute(1, 2, 0))"
   ]
  },
  {
   "cell_type": "code",
   "execution_count": 29,
   "metadata": {},
   "outputs": [],
   "source": [
    "from metrics.utils import cosine_similarity\n",
    "import numpy as np\n",
    "def compute_mean_and_variance(images):\n",
    "    # Concatenate the images into a single NumPy array\n",
    "    image_array = np.stack(images, axis=0)\n",
    "    # Compute the mean and variance along the appropriate axes\n",
    "    mean = np.mean(image_array, axis=(0))\n",
    "    variance = np.var(image_array, axis=(0))\n",
    "\n",
    "    return mean, variance\n",
    "\n",
    "def mean_var_cosine_similarity(imgs1, imgs2):\n",
    "    mean1, var1 = compute_mean_and_variance(imgs1)\n",
    "    mean2, var2 = compute_mean_and_variance(imgs2)\n",
    "    print(mean1.shape, var1.shape)\n",
    "    print(mean2.shape, var2.shape)\n",
    "    print(mean1.min(), mean1.max())\n",
    "    print(mean2.min(), mean2.max())\n",
    "\n",
    "    mean_cos = cosine_similarity(mean1.reshape(-1), mean2.reshape(-1))\n",
    "    var_cos = cosine_similarity(var1.reshape(-1), var2.reshape(-1))\n",
    "\n",
    "    return mean_cos, var_cos\n",
    "\n",
    "def denormalize(normalized_data, mean, std):\n",
    "    # Denormalize the data by multiplying by the standard deviation and adding the mean\n",
    "    data = normalized_data * std + mean\n",
    "\n",
    "    return data\n",
    "\n"
   ]
  },
  {
   "cell_type": "code",
   "execution_count": 31,
   "metadata": {},
   "outputs": [
    {
     "name": "stdout",
     "output_type": "stream",
     "text": [
      "(3, 4, 4) (3, 4, 4)\n",
      "(3, 4, 4) (3, 4, 4)\n",
      "-0.55294114 0.56078434\n",
      "-0.7908497 0.30457518\n"
     ]
    },
    {
     "data": {
      "text/plain": [
       "(0.33519357442855835, 0.718048095703125)"
      ]
     },
     "execution_count": 31,
     "metadata": {},
     "output_type": "execute_result"
    }
   ],
   "source": [
    "mean_var_cosine_similarity(train_images[:3], val_images[:3])"
   ]
  },
  {
   "cell_type": "code",
   "execution_count": 19,
   "metadata": {},
   "outputs": [
    {
     "name": "stdout",
     "output_type": "stream",
     "text": [
      "(3, 4, 4) (3, 4, 4)\n",
      "-0.56164116 0.22038417\n",
      "0.07346227 0.18106861\n",
      "===============\n",
      "(1000, 3, 4, 4)\n",
      "(3, 4, 4) (3, 4, 4)\n",
      "-0.5590059 0.22848608\n",
      "0.06726346 0.18840206\n"
     ]
    }
   ],
   "source": [
    "mean_train, variance_train = compute_mean_and_variance(train_images)\n",
    "print(mean_train.shape, variance_train.shape)\n",
    "print(mean_train.min(), mean_train.max())\n",
    "print(variance_train.min(), variance_train.max())\n",
    "\n",
    "print(\"===============\")\n",
    "\n",
    "mean_val , variance_val = compute_mean_and_variance(val_images)\n",
    "print(mean_val.shape, variance_val.shape)\n",
    "print(mean_val.min(), mean_val.max())\n",
    "print(variance_val.min(), variance_val.max())\n"
   ]
  },
  {
   "cell_type": "code",
   "execution_count": 20,
   "metadata": {},
   "outputs": [
    {
     "name": "stdout",
     "output_type": "stream",
     "text": [
      "(3, 4, 4)\n",
      "(48,)\n"
     ]
    }
   ],
   "source": [
    "print(mean_train.shape)\n",
    "\n",
    "print(mean_train.reshape(-1).shape)"
   ]
  },
  {
   "cell_type": "code",
   "execution_count": 21,
   "metadata": {},
   "outputs": [
    {
     "data": {
      "text/plain": [
       "<matplotlib.image.AxesImage at 0x2255a415c10>"
      ]
     },
     "execution_count": 21,
     "metadata": {},
     "output_type": "execute_result"
    },
    {
     "data": {
      "image/png": "[encoded data removed]",
      "text/plain": [
       "<Figure size 640x480 with 1 Axes>"
      ]
     },
     "metadata": {},
     "output_type": "display_data"
    }
   ],
   "source": [
    "def min_shift(image):\n",
    "    return image - image.min()\n",
    "\n",
    "plt.imshow(min_shift(mean_train).transpose(1, 2, 0))"
   ]
  },
  {
   "cell_type": "code",
   "execution_count": 22,
   "metadata": {},
   "outputs": [
    {
     "data": {
      "text/plain": [
       "<matplotlib.image.AxesImage at 0x2255a966ee0>"
      ]
     },
     "execution_count": 22,
     "metadata": {},
     "output_type": "execute_result"
    },
    {
     "data": {
      "image/png": "[encoded data removed]",
      "text/plain": [
       "<Figure size 640x480 with 1 Axes>"
      ]
     },
     "metadata": {},
     "output_type": "display_data"
    }
   ],
   "source": [
    "plt.imshow(variance_train.transpose(1, 2, 0))  "
   ]
  },
  {
   "cell_type": "code",
   "execution_count": 23,
   "metadata": {},
   "outputs": [
    {
     "name": "stdout",
     "output_type": "stream",
     "text": [
      "(1000, 3, 4, 4)\n",
      "(3, 4, 4)\n",
      "-0.56164116 0.22038417\n"
     ]
    },
    {
     "data": {
      "text/plain": [
       "<matplotlib.image.AxesImage at 0x2255a95f880>"
      ]
     },
     "execution_count": 23,
     "metadata": {},
     "output_type": "execute_result"
    },
    {
     "data": {
      "image/png": "[encoded data removed]",
      "text/plain": [
       "<Figure size 640x480 with 1 Axes>"
      ]
     },
     "metadata": {},
     "output_type": "display_data"
    }
   ],
   "source": [
    "image_array = np.stack(train_images, axis=0)\n",
    "print(image_array.shape)\n",
    "sum_image = np.sum(image_array, axis=(0))\n",
    "print(sum_image.shape)\n",
    "sum_image = sum_image / len(train_images)\n",
    "print(sum_image.min(), sum_image.max())\n",
    "\n",
    "plt.imshow(min_shift(sum_image).transpose(1, 2, 0))"
   ]
  },
  {
   "cell_type": "code",
   "execution_count": 24,
   "metadata": {},
   "outputs": [
    {
     "name": "stdout",
     "output_type": "stream",
     "text": [
      "(512,) (512, 512)\n"
     ]
    }
   ],
   "source": [
    "mean_train, std_train = activation_statistics(train_images, netD, device)\n",
    "mean_val, std_val = activation_statistics(val_images, netD, device)\n",
    "print(mean_val.shape, std_val.shape)"
   ]
  },
  {
   "cell_type": "code",
   "execution_count": 25,
   "metadata": {},
   "outputs": [
    {
     "name": "stderr",
     "output_type": "stream",
     "text": [
      "p:\\cgip_gan_2023\\metrics\\utils.py:33: NumbaWarning: \u001b[1m\n",
      "Compilation is falling back to object mode WITH looplifting enabled because Function \"frechet_distance\" failed type inference due to: \u001b[1m\u001b[1mUnknown attribute 'sqrtm' of type Module(<module 'scipy.linalg' from 'p:\\\\cgip_gan_2023\\\\.venv\\\\lib\\\\site-packages\\\\scipy\\\\linalg\\\\__init__.py'>)\n",
      "\u001b[1m\n",
      "File \"metrics\\utils.py\", line 67:\u001b[0m\n",
      "\u001b[1mdef frechet_distance(mu1, sigma1, mu2, sigma2, eps=1e-6):\n",
      "    <source elided>\n",
      "    # Product might be almost singular\n",
      "\u001b[1m    covmean = scipy.linalg.sqrtm(sigma1.dot(sigma2), disp=False)[0]\n",
      "\u001b[0m    \u001b[1m^\u001b[0m\u001b[0m\n",
      "\u001b[0m\n",
      "\u001b[0m\u001b[1mDuring: typing of get attribute at p:\\cgip_gan_2023\\metrics\\utils.py (67)\u001b[0m\n",
      "\u001b[1m\n",
      "File \"metrics\\utils.py\", line 67:\u001b[0m\n",
      "\u001b[1mdef frechet_distance(mu1, sigma1, mu2, sigma2, eps=1e-6):\n",
      "    <source elided>\n",
      "    # Product might be almost singular\n",
      "\u001b[1m    covmean = scipy.linalg.sqrtm(sigma1.dot(sigma2), disp=False)[0]\n",
      "\u001b[0m    \u001b[1m^\u001b[0m\u001b[0m\n",
      "\u001b[0m\n",
      "  @nb.jit(nopython=False, cache=True, forceobj=False)\n",
      "p:\\cgip_gan_2023\\.venv\\lib\\site-packages\\numba\\core\\object_mode_passes.py:151: NumbaWarning: \u001b[1mFunction \"frechet_distance\" was compiled in object mode without forceobj=True.\n",
      "\u001b[1m\n",
      "File \"metrics\\utils.py\", line 34:\u001b[0m\n",
      "\u001b[1m@nb.jit(nopython=False, cache=True, forceobj=False)\n",
      "\u001b[1mdef frechet_distance(mu1, sigma1, mu2, sigma2, eps=1e-6):\n",
      "\u001b[0m\u001b[1m^\u001b[0m\u001b[0m\n",
      "\u001b[0m\n",
      "  warnings.warn(errors.NumbaWarning(warn_msg,\n",
      "p:\\cgip_gan_2023\\.venv\\lib\\site-packages\\numba\\core\\object_mode_passes.py:161: NumbaDeprecationWarning: \u001b[1m\n",
      "Fall-back from the nopython compilation path to the object mode compilation path has been detected, this is deprecated behaviour.\n",
      "\n",
      "For more information visit https://numba.readthedocs.io/en/stable/reference/deprecation.html#deprecation-of-object-mode-fall-back-behaviour-when-using-jit\n",
      "\u001b[1m\n",
      "File \"metrics\\utils.py\", line 34:\u001b[0m\n",
      "\u001b[1m@nb.jit(nopython=False, cache=True, forceobj=False)\n",
      "\u001b[1mdef frechet_distance(mu1, sigma1, mu2, sigma2, eps=1e-6):\n",
      "\u001b[0m\u001b[1m^\u001b[0m\u001b[0m\n",
      "\u001b[0m\n",
      "  warnings.warn(errors.NumbaDeprecationWarning(msg,\n"
     ]
    },
    {
     "data": {
      "text/plain": [
       "1.552357160398273"
      ]
     },
     "execution_count": 25,
     "metadata": {},
     "output_type": "execute_result"
    }
   ],
   "source": [
    "fd = frechet_distance(mean_train, std_train, mean_val, std_val)\n",
    "fd"
   ]
  },
  {
   "cell_type": "code",
   "execution_count": null,
   "metadata": {},
   "outputs": [],
   "source": []
  }
 ],
 "metadata": {
  "kernelspec": {
   "display_name": ".venv",
   "language": "python",
   "name": "python3"
  },
  "language_info": {
   "codemirror_mode": {
    "name": "ipython",
    "version": 3
   },
   "file_extension": ".py",
   "mimetype": "text/x-python",
   "name": "python",
   "nbconvert_exporter": "python",
   "pygments_lexer": "ipython3",
   "version": "3.9.13"
  },
  "orig_nbformat": 4
 },
 "nbformat": 4,
 "nbformat_minor": 2
}
