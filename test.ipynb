{
 "cells": [
  {
   "cell_type": "code",
   "execution_count": 13,
   "metadata": {},
   "outputs": [],
   "source": [
    "from metrics.utils import frechet_distance, inception_activation_statistics\n",
    "from utils.setup import load_data\n",
    "import torch\n",
    "from metrics.inception import InceptionV3\n",
    "device = \"cuda:1\""
   ]
  },
  {
   "cell_type": "code",
   "execution_count": 14,
   "metadata": {},
   "outputs": [],
   "source": [
    "train_data = load_data(\"train\", \"configs/data.yaml\").dataset\n",
    "val_data = load_data(\"val\", \"configs/data.yaml\").dataset\n",
    "model = InceptionV3().to(device)"
   ]
  },
  {
   "cell_type": "code",
   "execution_count": 22,
   "metadata": {},
   "outputs": [],
   "source": [
    "samples = 10\n",
    "train_images = [torch.unsqueeze(train_data[i][0], 0) for i in range(samples)]\n",
    "val_images = [torch.unsqueeze(val_data[i][0], 0) for i in range(samples+1)]"
   ]
  },
  {
   "cell_type": "code",
   "execution_count": 23,
   "metadata": {},
   "outputs": [
    {
     "data": {
      "text/plain": [
       "136.6522653985379"
      ]
     },
     "execution_count": 23,
     "metadata": {},
     "output_type": "execute_result"
    }
   ],
   "source": [
    "mean_train, std_train = inception_activation_statistics(train_images, model, device)\n",
    "mean_val, std_val = inception_activation_statistics(val_images, model, device)\n",
    "\n",
    "fd = frechet_distance(mean_train, std_train, mean_val, std_val)\n",
    "fd"
   ]
  },
  {
   "cell_type": "code",
   "execution_count": 23,
   "metadata": {},
   "outputs": [],
   "source": [
    "import numpy as np\n",
    "\n",
    "m1 = 1\n",
    "m2 = 2\n",
    "data1 = np.array([1, 2, 3, 4, 5, 6, 7, 8, 9])\n",
    "data2 = np.array([4, 4, 6, 7, 8, 9, 10, 12, 12])\n"
   ]
  },
  {
   "cell_type": "code",
   "execution_count": 24,
   "metadata": {},
   "outputs": [
    {
     "data": {
      "text/plain": [
       "(6.666666666666667, 8.222222222222221)"
      ]
     },
     "execution_count": 24,
     "metadata": {},
     "output_type": "execute_result"
    }
   ],
   "source": [
    "data1.var(), data2.var()"
   ]
  },
  {
   "cell_type": "code",
   "execution_count": 25,
   "metadata": {},
   "outputs": [
    {
     "data": {
      "text/plain": [
       "array([[7.5 , 8.25],\n",
       "       [8.25, 9.25]])"
      ]
     },
     "execution_count": 25,
     "metadata": {},
     "output_type": "execute_result"
    }
   ],
   "source": [
    "np.cov([data1, data2])"
   ]
  },
  {
   "cell_type": "code",
   "execution_count": 34,
   "metadata": {},
   "outputs": [],
   "source": [
    "import torch\n",
    "\n",
    "def cosine_similarity(a, b):\n",
    "    similarity = torch.nn.functional.cosine_similarity(a, b, dim=1)\n",
    "    return similarity"
   ]
  },
  {
   "cell_type": "code",
   "execution_count": 49,
   "metadata": {},
   "outputs": [
    {
     "name": "stdout",
     "output_type": "stream",
     "text": [
      "tensor([0.9778, 1.0000])\n"
     ]
    }
   ],
   "source": [
    "a = torch.tensor([[1., 2.], [1, 0]])\n",
    "b = torch.tensor([[4., 5.], [1, 0]])\n",
    "similarity = cosine_similarity(a, b)\n",
    "print(similarity) "
   ]
  },
  {
   "cell_type": "code",
   "execution_count": 29,
   "metadata": {},
   "outputs": [],
   "source": [
    "import numpy as np\n",
    "\n",
    "def cosine_similarity(a, b):\n",
    "    dot_product = np.dot(a, b)\n",
    "    norm_a = np.linalg.norm(a)\n",
    "    norm_b = np.linalg.norm(b)\n",
    "    similarity = dot_product / (norm_a * norm_b)\n",
    "    return similarity"
   ]
  },
  {
   "cell_type": "code",
   "execution_count": 30,
   "metadata": {},
   "outputs": [
    {
     "name": "stdout",
     "output_type": "stream",
     "text": [
      "0.9746318461970762\n"
     ]
    }
   ],
   "source": [
    "a = np.array([1, 2, 3])\n",
    "b = np.array([4, 5, 6])\n",
    "similarity = cosine_similarity(a, b)\n",
    "print(similarity) "
   ]
  },
  {
   "cell_type": "code",
   "execution_count": 1,
   "metadata": {},
   "outputs": [
    {
     "name": "stdout",
     "output_type": "stream",
     "text": [
      "Process 1 started\n",
      "Process 2 started\n",
      "Process 3 started\n",
      "Process 4 started\n",
      "Process 1 finished\n",
      "Process 2 finished\n",
      "Process 3 finished\n",
      "Process 4 finished\n",
      "Process 5 started\n",
      "Process 6 started\n",
      "Process 7 started\n",
      "Process 8 started\n",
      "Process 5 finished\n",
      "Process 6 finished\n",
      "Process 7 finished\n",
      "Process 9 started\n",
      "Process 8 finished\n",
      "Process 10 started\n",
      "Process 9 finished\n",
      "Process 10 finished\n"
     ]
    }
   ],
   "source": [
    "import multiprocessing\n",
    "import time\n",
    "\n",
    "def process_func(process_id):\n",
    "    print(f\"Process {process_id} started\")\n",
    "    time.sleep(3)  # Simulate some work being done\n",
    "    print(f\"Process {process_id} finished\")\n",
    "\n",
    "def scheduler(processes):\n",
    "    num_processes = len(processes)\n",
    "    running_processes = []\n",
    "\n",
    "    while processes or running_processes:\n",
    "        while processes and len(running_processes) < 4:\n",
    "            process = processes.pop(0)\n",
    "            p = multiprocessing.Process(target=process_func, args=(process,))\n",
    "            p.start()\n",
    "            running_processes.append(p)\n",
    "\n",
    "        for process in running_processes:\n",
    "            if not process.is_alive():\n",
    "                running_processes.remove(process)\n",
    "\n",
    "        time.sleep(0.1)  # Adjust as needed to control the frequency of checking\n",
    "\n",
    "# Example usage\n",
    "process_queue = [1, 2, 3, 4, 5, 6, 7, 8, 9, 10]  # Queue of processes to run\n",
    "scheduler(process_queue)"
   ]
  }
 ],
 "metadata": {
  "kernelspec": {
   "display_name": ".venv",
   "language": "python",
   "name": "python3"
  },
  "language_info": {
   "codemirror_mode": {
    "name": "ipython",
    "version": 3
   },
   "file_extension": ".py",
   "mimetype": "text/x-python",
   "name": "python",
   "nbconvert_exporter": "python",
   "pygments_lexer": "ipython3",
   "version": "3.10.6"
  },
  "orig_nbformat": 4
 },
 "nbformat": 4,
 "nbformat_minor": 2
}
